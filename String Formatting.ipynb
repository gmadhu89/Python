{
 "cells": [
  {
   "cell_type": "code",
   "execution_count": 1,
   "metadata": {
    "collapsed": true
   },
   "outputs": [],
   "source": [
    "##There are three ways to perform string formatting.\n",
    "\n",
    "##The oldest method involves placeholders using the modulo % character.\n",
    "##An improved technique uses the .format() string method.\n",
    "##The newest method, introduced with Python 3.6, uses formatted string literals, called f-strings."
   ]
  },
  {
   "cell_type": "code",
   "execution_count": 8,
   "metadata": {},
   "outputs": [
    {
     "name": "stdout",
     "output_type": "stream",
     "text": [
      "This is going to insert string using formatting\n",
      "\n",
      "This is going to insert two strings using formatting\n",
      "\n",
      "I can also insert string1 and string2 using variables\n"
     ]
    }
   ],
   "source": [
    "## Formatting with placeholders\n",
    "\n",
    "print('This is going to insert %s using formatting'%'string')\n",
    "\n",
    "print('\\nThis is going to insert %s %s using %s'%('two','strings','formatting'))\n",
    "\n",
    "x,y = 'string1','string2'\n",
    "print('\\nI can also insert %s and %s using %s'%(x,y,'variables'))"
   ]
  },
  {
   "cell_type": "code",
   "execution_count": 23,
   "metadata": {},
   "outputs": [
    {
     "name": "stdout",
     "output_type": "stream",
     "text": [
      "This is how string will look when \t is used\n",
      "\n",
      "This is how string will look when '\\t' is used\n",
      "I am inserting 'replace' in this line\n",
      "I wrote 3.75 programs today\n",
      "I wrote 3 programs today\n",
      "FLoating point numbers 13445.48\n",
      "First is :Char,Second is :10,Third is :'Fish'\n",
      "First is FIsh Second is 10 Third is 'Hello'\n"
     ]
    }
   ],
   "source": [
    "## Formatting with %r and %d \n",
    "\n",
    "print('This is how string will look when %s is used'%'\\t')\n",
    "print('\\nThis is how string will look when %r is used'%'\\t')\n",
    "\n",
    "print('I am inserting %r in this line'%'replace')\n",
    "\n",
    "print('I wrote %s programs today'%3.75)\n",
    "print('I wrote %d programs today'%3.75)\n",
    "\n",
    "print('FLoating point numbers %5.2f'%(13445.47656))\n",
    "\n",
    "print('First is :%s,Second is :%d,Third is :%r'%('Char',10.34,'Fish'))\n",
    "\n",
    "print('First is %s'%'FIsh','Second is %d'%10.23,'Third is %r'%'Hello')"
   ]
  },
  {
   "cell_type": "code",
   "execution_count": 29,
   "metadata": {},
   "outputs": [
    {
     "name": "stdout",
     "output_type": "stream",
     "text": [
      "This is a new method of string formatting\n",
      "I have grapes apples and oranges\n",
      "I can insert apples grapes and oranges also\n"
     ]
    }
   ],
   "source": [
    "## Formatting with a .format method\n",
    "\n",
    "print('This is a new {} of string {}'.format('method','formatting'))\n",
    "print('I have {2} {0} and {1}'.format('apples','oranges','grapes'))\n",
    "\n",
    "print('I can insert {var1} {var2} and {var3} also'.format(var1='apples',var2='grapes',var3='oranges'))"
   ]
  },
  {
   "cell_type": "code",
   "execution_count": 40,
   "metadata": {},
   "outputs": [
    {
     "name": "stdout",
     "output_type": "stream",
     "text": [
      "Name    |Address  |Phone\n",
      "Name    | Center |   Phone\n",
      "Left====|-Center--|***Right\n"
     ]
    }
   ],
   "source": [
    "## Allignment, Padding and Precision with .format()\n",
    "\n",
    "print('{0:8}|{1:9}|{2:5}'.format('Name','Address','Phone'))\n",
    "print('{0:<8}|{1:^8}|{2:>8}'.format('Name','Center','Phone'))\n",
    "\n",
    "print('{0:=<8}|{1:-^9}|{2:*>8}'.format('Left','Center','Right'))"
   ]
  },
  {
   "cell_type": "code",
   "execution_count": 51,
   "metadata": {},
   "outputs": [
    {
     "name": "stdout",
     "output_type": "stream",
     "text": [
      "I have 10 apples and  10.240000 oranges\n",
      "I have 10 apples and  10.240000 oranges\n"
     ]
    }
   ],
   "source": [
    "## Formatting with fstrings (This is the latest technique in string formatting)\n",
    "\n",
    "num = 10\n",
    "vfloat = 10.24\n",
    "print(f'I have {num} apples and {vfloat:10.6f} oranges')\n",
    "\n",
    "print('I have {0} apples and {1:10.6f} oranges'.format(num,vfloat))"
   ]
  },
  {
   "cell_type": "code",
   "execution_count": null,
   "metadata": {
    "collapsed": true
   },
   "outputs": [],
   "source": []
  }
 ],
 "metadata": {
  "kernelspec": {
   "display_name": "Python 3",
   "language": "python",
   "name": "python3"
  },
  "language_info": {
   "codemirror_mode": {
    "name": "ipython",
    "version": 3
   },
   "file_extension": ".py",
   "mimetype": "text/x-python",
   "name": "python",
   "nbconvert_exporter": "python",
   "pygments_lexer": "ipython3",
   "version": "3.6.3"
  }
 },
 "nbformat": 4,
 "nbformat_minor": 2
}
