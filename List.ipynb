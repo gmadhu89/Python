{
 "cells": [
  {
   "cell_type": "code",
   "execution_count": 13,
   "metadata": {},
   "outputs": [
    {
     "name": "stdout",
     "output_type": "stream",
     "text": [
      "['ABC', 'DEF', 'XYZ', 123]\n",
      "None\n",
      "[100, 123, 456, 789]\n"
     ]
    }
   ],
   "source": [
    "## Lists are similar to strings\n",
    "## Ordered sequences of objects of different data types\n",
    "## Strings are immutable, however lists are mutable\n",
    "\n",
    "\n",
    "## Methods : append, pop , sort, reverse\n",
    "\n",
    "## Default NULL Type or Value in Python is \"None\"\n",
    "\n",
    "list1 = [1,2,3,4]\n",
    "string1 =  'String'\n",
    "type(list1)\n",
    "type(string1)\n",
    "\n",
    "var_list = ['ABC','DEF','XYZ',123]\n",
    "print(var_list)\n",
    "\n",
    "print(var_list.append('TVU'))\n",
    "var_list\n",
    "\n",
    "var_list.reverse()\n",
    "var_list\n",
    "\n",
    "var_list.pop()\n",
    "var_list\n",
    "\n",
    "list2 = [123,456,789,100]\n",
    "list2.sort()\n",
    "print(list2)"
   ]
  },
  {
   "cell_type": "code",
   "execution_count": null,
   "metadata": {
    "collapsed": true
   },
   "outputs": [],
   "source": []
  }
 ],
 "metadata": {
  "kernelspec": {
   "display_name": "Python 3",
   "language": "python",
   "name": "python3"
  },
  "language_info": {
   "codemirror_mode": {
    "name": "ipython",
    "version": 3
   },
   "file_extension": ".py",
   "mimetype": "text/x-python",
   "name": "python",
   "nbconvert_exporter": "python",
   "pygments_lexer": "ipython3",
   "version": "3.6.3"
  }
 },
 "nbformat": 4,
 "nbformat_minor": 2
}
