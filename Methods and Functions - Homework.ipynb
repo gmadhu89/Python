{
 "cells": [
  {
   "cell_type": "code",
   "execution_count": 5,
   "metadata": {
    "collapsed": true
   },
   "outputs": [],
   "source": [
    "## Function that computes volume of a sphere given its radius\n",
    "\n",
    "def vol(radius):\n",
    "    return (4/3)*3.14*(radius**3)"
   ]
  },
  {
   "cell_type": "code",
   "execution_count": 7,
   "metadata": {},
   "outputs": [
    {
     "data": {
      "text/plain": [
       "33.49333333333333"
      ]
     },
     "execution_count": 7,
     "metadata": {},
     "output_type": "execute_result"
    }
   ],
   "source": [
    "vol(2)"
   ]
  },
  {
   "cell_type": "code",
   "execution_count": 62,
   "metadata": {
    "collapsed": true
   },
   "outputs": [],
   "source": [
    "## Function that determines if a number is in a given range (inclusive of high and low)\n",
    "\n",
    "def ran_check(num,low,high):\n",
    "    \n",
    "    return num in range(low,high+1)\n",
    "    \n",
    "    #if num in range(low,high+1):\n",
    "    #    return True\n",
    "    #else:\n",
    "    #    return False"
   ]
  },
  {
   "cell_type": "code",
   "execution_count": 64,
   "metadata": {},
   "outputs": [
    {
     "data": {
      "text/plain": [
       "True"
      ]
     },
     "execution_count": 64,
     "metadata": {},
     "output_type": "execute_result"
    }
   ],
   "source": [
    "ran_check(7,5,7)"
   ]
  },
  {
   "cell_type": "code",
   "execution_count": 58,
   "metadata": {
    "collapsed": true
   },
   "outputs": [],
   "source": [
    "## Function that determines if a number is in a given range (inclusive of high and low)\n",
    "\n",
    "def ran_check2(num,low,high):\n",
    "    \n",
    "    if num in range(low,high+1):\n",
    "        print(f'{num} is in the range '.format(num))\n",
    "    else:\n",
    "        print(\"Number not in range\")"
   ]
  },
  {
   "cell_type": "code",
   "execution_count": 59,
   "metadata": {},
   "outputs": [
    {
     "name": "stdout",
     "output_type": "stream",
     "text": [
      "7 is in the range \n"
     ]
    }
   ],
   "source": [
    "ran_check2(7,5,7)"
   ]
  },
  {
   "cell_type": "code",
   "execution_count": 53,
   "metadata": {},
   "outputs": [],
   "source": [
    "##Write a Python function that accepts a string and calculates the number of upper case letters and lower case letters.\n",
    "\n",
    "\n",
    "def cal_num(string):\n",
    "    low_cnt = 0\n",
    "    upp_cnt = 0\n",
    "    \n",
    "    ## HellO\n",
    "    \n",
    "    for i in string:\n",
    "        if i == i.lower():\n",
    "            low_cnt += 1\n",
    "        elif i == i.upper():\n",
    "            upp_cnt += 1\n",
    "    \n",
    "    print(f'Count of lower case letters is {low_cnt} and upper case letters is {upp_cnt}'.format(low_cnt,upp_cnt))"
   ]
  },
  {
   "cell_type": "code",
   "execution_count": 54,
   "metadata": {},
   "outputs": [
    {
     "name": "stdout",
     "output_type": "stream",
     "text": [
      "Count of lower case letters is 3 and upper case letters is 2\n"
     ]
    }
   ],
   "source": [
    "cal_num('HellO')"
   ]
  },
  {
   "cell_type": "code",
   "execution_count": 66,
   "metadata": {},
   "outputs": [],
   "source": [
    "##Write a Python function that accepts a string and calculates the number of upper case letters and lower case letters.\n",
    "\n",
    "def cal_num2(string):\n",
    "    d = {\"upp\":0,\"low\":0}\n",
    "    \n",
    "    for i in string:\n",
    "        if i.isupper():\n",
    "            d[\"upp\"]+=1\n",
    "        elif i.islower():\n",
    "            d[\"low\"]+=1\n",
    "        else:\n",
    "            pass\n",
    "        \n",
    "    print('Number of upper characters is',d[\"upp\"])\n",
    "    print('Number of lower characters is',d[\"low\"])"
   ]
  },
  {
   "cell_type": "code",
   "execution_count": 68,
   "metadata": {},
   "outputs": [
    {
     "name": "stdout",
     "output_type": "stream",
     "text": [
      "Number of upper characters is 5\n",
      "Number of lower characters is 5\n"
     ]
    }
   ],
   "source": [
    "cal_num2('HeLLo WorlD')"
   ]
  },
  {
   "cell_type": "code",
   "execution_count": 7,
   "metadata": {},
   "outputs": [],
   "source": [
    "##Write a Python function that takes a list and returns a new list with unique elements of the first list.\n",
    "\n",
    "#Sample List : [1,1,1,1,2,2,3,3,3,3,4,5]\n",
    "#Unique List : [1, 2, 3, 4, 5]\n",
    "\n",
    "def unqlist(x):\n",
    "    y =[]\n",
    "    \n",
    "    for a in x:\n",
    "        if a not in y:\n",
    "            y.append(a)\n",
    "        \n",
    "    return y"
   ]
  },
  {
   "cell_type": "code",
   "execution_count": 8,
   "metadata": {},
   "outputs": [
    {
     "data": {
      "text/plain": [
       "[1, 2, 3, 4, 5]"
      ]
     },
     "execution_count": 8,
     "metadata": {},
     "output_type": "execute_result"
    }
   ],
   "source": [
    "unqlist([1,2,3,4,5,5,5,2,2,4])"
   ]
  },
  {
   "cell_type": "code",
   "execution_count": 11,
   "metadata": {
    "collapsed": true
   },
   "outputs": [],
   "source": [
    "##Write a Python function to multiply all the numbers in a list.\n",
    "\n",
    "##Sample List : [1, 2, 3, -4]\n",
    "##Expected Output : -24\n",
    "\n",
    "def mul_list(inlist):\n",
    "    out = 1\n",
    "    \n",
    "    for i in inlist:\n",
    "        out = out*i\n",
    "        \n",
    "    return out"
   ]
  },
  {
   "cell_type": "code",
   "execution_count": 12,
   "metadata": {},
   "outputs": [
    {
     "data": {
      "text/plain": [
       "-24"
      ]
     },
     "execution_count": 12,
     "metadata": {},
     "output_type": "execute_result"
    }
   ],
   "source": [
    "mul_list([1,2,3,-4])"
   ]
  },
  {
   "cell_type": "code",
   "execution_count": 13,
   "metadata": {
    "collapsed": true
   },
   "outputs": [],
   "source": [
    "def mul(num):\n",
    "    total = num[0]\n",
    "    \n",
    "    for i in num:\n",
    "        total *= i\n",
    "        \n",
    "    return total"
   ]
  },
  {
   "cell_type": "code",
   "execution_count": 14,
   "metadata": {},
   "outputs": [
    {
     "data": {
      "text/plain": [
       "-24"
      ]
     },
     "execution_count": 14,
     "metadata": {},
     "output_type": "execute_result"
    }
   ],
   "source": [
    "mul([1,2,3,-4])"
   ]
  },
  {
   "cell_type": "code",
   "execution_count": 19,
   "metadata": {
    "collapsed": true
   },
   "outputs": [],
   "source": [
    "##Write a Python function that checks whether a passed in string is palindrome or not.\n",
    "\n",
    "##Note: A palindrome is word, phrase, or sequence that reads the same backward as forward, e.g., madam or nurses run.\n",
    "\n",
    "\n",
    "def palindrome(string):\n",
    "    \n",
    "    if string[::1].lower() == string[::-1].lower():\n",
    "        print('The string is a Palindrome')\n",
    "    else:\n",
    "        print(\"The string is not a Palindrome\")"
   ]
  },
  {
   "cell_type": "code",
   "execution_count": 21,
   "metadata": {},
   "outputs": [
    {
     "name": "stdout",
     "output_type": "stream",
     "text": [
      "The string is not a Palindrome\n"
     ]
    }
   ],
   "source": [
    "palindrome('Madame')"
   ]
  },
  {
   "cell_type": "code",
   "execution_count": 28,
   "metadata": {},
   "outputs": [],
   "source": [
    "def palindrome2(string):\n",
    "    return string.lower() == string[::-1].lower()"
   ]
  },
  {
   "cell_type": "code",
   "execution_count": 29,
   "metadata": {},
   "outputs": [
    {
     "data": {
      "text/plain": [
       "True"
      ]
     },
     "execution_count": 29,
     "metadata": {},
     "output_type": "execute_result"
    }
   ],
   "source": [
    "palindrome2('Madam')"
   ]
  },
  {
   "cell_type": "code",
   "execution_count": 32,
   "metadata": {
    "collapsed": true
   },
   "outputs": [],
   "source": [
    "#Write a Python function to check whether a string is pangram or not.\n",
    "\n",
    "#Note : Pangrams are words or sentences containing every letter of the alphabet at least once.\n",
    "#For example : \"The quick brown fox jumps over the lazy dog\"\n",
    "\n",
    "import string\n",
    "\n",
    "def pangram(string,alphabet = string.ascii_lowercase):\n",
    "    alphaset = set(alphabet)\n",
    "    \n",
    "    return alphaset <= set(string.lower())\n",
    "    \n",
    "## - set can be used for comparison - two lists or strings in Python"
   ]
  },
  {
   "cell_type": "code",
   "execution_count": 34,
   "metadata": {},
   "outputs": [
    {
     "data": {
      "text/plain": [
       "True"
      ]
     },
     "execution_count": 34,
     "metadata": {},
     "output_type": "execute_result"
    }
   ],
   "source": [
    "pangram('The quick brown fox jumps over the lazy dog')"
   ]
  },
  {
   "cell_type": "code",
   "execution_count": null,
   "metadata": {
    "collapsed": true
   },
   "outputs": [],
   "source": []
  }
 ],
 "metadata": {
  "kernelspec": {
   "display_name": "Python 3",
   "language": "python",
   "name": "python3"
  },
  "language_info": {
   "codemirror_mode": {
    "name": "ipython",
    "version": 3
   },
   "file_extension": ".py",
   "mimetype": "text/x-python",
   "name": "python",
   "nbconvert_exporter": "python",
   "pygments_lexer": "ipython3",
   "version": "3.6.3"
  }
 },
 "nbformat": 4,
 "nbformat_minor": 2
}
