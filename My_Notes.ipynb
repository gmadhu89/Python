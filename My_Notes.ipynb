{
 "cells": [
  {
   "cell_type": "code",
   "execution_count": 1,
   "metadata": {
    "collapsed": true
   },
   "outputs": [],
   "source": [
    "## String Notes\n",
    "\n",
    "## \\n = New line (within a string definition)\n",
    "## \\t = tab (5 spaces)\n",
    "## Length function = len('String Name')\n",
    "## Variable = 'STring' or Number\n",
    "## Concatenation String = print('String Name', 'STring 2') / \"+\" is used to concatenate a string with new characters\n",
    "## Indexing a string -  Python stores strings as a array or sequence of Pointers use [] to refer to a position in the string Array starts from 0 .. n\n",
    "## Slicing a string (similar to a substring) - from upto that index eg : var[1:5] will consider second to 5th characetrr of string (does not include the upto index - only until that)\n",
    "## Indexing : Grab everything from a string var[:]\n",
    "## negative indexing var[-1] - Last letter\n",
    "## string[:] - Grabs every letter one step wise - To give mulitple steps \n",
    "## string[::1] - prints every letter , string[::2] - prints every second character, string[::-1] - Print string in reverse order\n",
    "## STrings are immutable - you cannot change the characters in the stringa once defined\n",
    "## Arithmetic operations used in STrings (+ - COncatenations / * - print the string that many times string * n - print n number of times)\n",
    "\n",
    "## How to find the datatype of  variable = type(varname)\n",
    "\n",
    "## Indexing string[a:b:c]  --> a : Index/Slice from,  b:Index upto not including, c : step size jump\n",
    "## Indexing string[a:] --> from a until end   string[:b] --> from beginning until end\n",
    "## Indexing step size alone [::c] --> Step size alone\n",
    "\n",
    "## Built in functions in a string\n",
    "## Define a string , say x = \"Hello World\" , now type x.tab -> will list all he built in functions that can be applied on the variable\n",
    "##  x.upper() , x.lower()\n",
    "\n",
    "##x.split() -> Splits the string into lists (based on the character passed -> default space)"
   ]
  },
  {
   "cell_type": "code",
   "execution_count": null,
   "metadata": {
    "collapsed": true
   },
   "outputs": [],
   "source": []
  }
 ],
 "metadata": {
  "kernelspec": {
   "display_name": "Python 3",
   "language": "python",
   "name": "python3"
  },
  "language_info": {
   "codemirror_mode": {
    "name": "ipython",
    "version": 3
   },
   "file_extension": ".py",
   "mimetype": "text/x-python",
   "name": "python",
   "nbconvert_exporter": "python",
   "pygments_lexer": "ipython3",
   "version": "3.6.3"
  }
 },
 "nbformat": 4,
 "nbformat_minor": 2
}
