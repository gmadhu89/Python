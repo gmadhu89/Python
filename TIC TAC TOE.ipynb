{
 "cells": [
  {
   "cell_type": "code",
   "execution_count": 3,
   "metadata": {
    "collapsed": true
   },
   "outputs": [],
   "source": [
    "from IPython.display import clear_output\n",
    "\n",
    "def display_board(board):\n",
    "    for index,item in (enumerate(board,start = 1)):\n",
    "        print(' ',item,end = ' |' if index%3 else '\\n')\n",
    "    "
   ]
  },
  {
   "cell_type": "code",
   "execution_count": 4,
   "metadata": {},
   "outputs": [
    {
     "name": "stdout",
     "output_type": "stream",
     "text": [
      "    |    |   \n",
      "    |    |   \n",
      "    |    |   \n"
     ]
    }
   ],
   "source": [
    "display_board([' ']*9)"
   ]
  },
  {
   "cell_type": "code",
   "execution_count": 5,
   "metadata": {
    "collapsed": true
   },
   "outputs": [],
   "source": [
    "def player_input():\n",
    "    marker = False\n",
    "    while not marker:\n",
    "        ans = input('Chose your marker : X or O')\n",
    "        if ans == 'X':\n",
    "            player1,player2 = ('X','O')\n",
    "            marker = True\n",
    "        elif ans == 'O':\n",
    "            player1,player2 = ('O','X')\n",
    "            marker = True\n",
    "    return player1,player2"
   ]
  },
  {
   "cell_type": "code",
   "execution_count": 6,
   "metadata": {},
   "outputs": [
    {
     "name": "stdout",
     "output_type": "stream",
     "text": [
      "Chose your marker : X or OX\n"
     ]
    },
    {
     "data": {
      "text/plain": [
       "('X', 'O')"
      ]
     },
     "execution_count": 6,
     "metadata": {},
     "output_type": "execute_result"
    }
   ],
   "source": [
    "player_input()"
   ]
  },
  {
   "cell_type": "code",
   "execution_count": 9,
   "metadata": {
    "collapsed": true
   },
   "outputs": [],
   "source": [
    "def place_marker(board,marker,position):\n",
    "    #board = [' ',' ',' ',' ',' ',' ',' ',' ',' ']\n",
    "    #marker = input(player_input())\n",
    "    #position = input('Select desired position from 1 - 9 :')\n",
    "    \n",
    "    board[position-1] = marker\n",
    "    \n",
    "    display_board(board)\n",
    "    "
   ]
  },
  {
   "cell_type": "code",
   "execution_count": 10,
   "metadata": {},
   "outputs": [],
   "source": [
    "place_marker([' ',' ',' ',' ',' ',' ',' ',' ',' '],'O',1)"
   ]
  },
  {
   "cell_type": "code",
   "execution_count": 1,
   "metadata": {
    "collapsed": true
   },
   "outputs": [],
   "source": [
    "def wincheck(board,marker):\n",
    "    win = False\n",
    "    win_positions = {'1':[0,1,2],'2':[3,4,5],'3':[6,7,8],'4':[0,3,6],'5':[1,4,7],'6':[2,5,8],'7':[2,4,6],'8':[0,4,8]}\n",
    "    for ind,pos in enumerate(win_positions):\n",
    "        win_list = []\n",
    "        for val in win_positions[pos]:\n",
    "            win_list.append(board[val])\n",
    "            #print(win_list)\n",
    "            if win_list.count(marker) == 3:\n",
    "                win = True\n",
    "                break\n",
    "        if win == True:\n",
    "            break\n",
    "    return win\n",
    "        \n",
    "      "
   ]
  },
  {
   "cell_type": "code",
   "execution_count": 7,
   "metadata": {},
   "outputs": [
    {
     "data": {
      "text/plain": [
       "True"
      ]
     },
     "execution_count": 7,
     "metadata": {},
     "output_type": "execute_result"
    }
   ],
   "source": [
    "wincheck(['O',' ',' ','O',' ',' ','O',' ',' '],'O')"
   ]
  },
  {
   "cell_type": "code",
   "execution_count": 9,
   "metadata": {},
   "outputs": [
    {
     "name": "stdout",
     "output_type": "stream",
     "text": [
      "  X |    |   \n",
      "    |  X |   \n",
      "    |  X |  X\n"
     ]
    }
   ],
   "source": [
    "display_board(['X',' ',' ',' ','X',' ',' ','X','X'])"
   ]
  },
  {
   "cell_type": "code",
   "execution_count": 10,
   "metadata": {
    "collapsed": true
   },
   "outputs": [],
   "source": [
    "import random\n",
    "\n",
    "def choose_first():\n",
    "    player = random.randint(1,2)\n",
    "    if player == 1:\n",
    "        return (\"Player 1\")\n",
    "    else:\n",
    "        return (\"Player 2\")"
   ]
  },
  {
   "cell_type": "code",
   "execution_count": 11,
   "metadata": {},
   "outputs": [
    {
     "data": {
      "text/plain": [
       "'Player 1'"
      ]
     },
     "execution_count": 11,
     "metadata": {},
     "output_type": "execute_result"
    }
   ],
   "source": [
    "choose_first()"
   ]
  },
  {
   "cell_type": "code",
   "execution_count": 14,
   "metadata": {
    "collapsed": true
   },
   "outputs": [],
   "source": [
    "def space_check(board,position):\n",
    "    #position = position-1\n",
    "    return board[position-1] == ' '"
   ]
  },
  {
   "cell_type": "code",
   "execution_count": 24,
   "metadata": {},
   "outputs": [
    {
     "data": {
      "text/plain": [
       "False"
      ]
     },
     "execution_count": 24,
     "metadata": {},
     "output_type": "execute_result"
    }
   ],
   "source": [
    "space_check(['X',' ',' ',' ','X',' ',' ','X','X'],9)"
   ]
  },
  {
   "cell_type": "markdown",
   "metadata": {
    "collapsed": true
   },
   "source": [
    "### def full_check(board):\n",
    "    \n",
    "    cnt = 0\n",
    "    for i in range(0,len(board)):\n",
    "        if board[i] in ('X','O'):\n",
    "            cnt += 1\n",
    "    if cnt == 9:\n",
    "        return True\n",
    "    else:\n",
    "        return False"
   ]
  },
  {
   "cell_type": "code",
   "execution_count": 15,
   "metadata": {},
   "outputs": [
    {
     "data": {
      "text/plain": [
       "False"
      ]
     },
     "execution_count": 15,
     "metadata": {},
     "output_type": "execute_result"
    }
   ],
   "source": [
    "full_check(['X','X','X','X','X',' ','X','O','X'])"
   ]
  },
  {
   "cell_type": "code",
   "execution_count": 16,
   "metadata": {
    "collapsed": true
   },
   "outputs": [],
   "source": [
    "def player_choice(board):\n",
    "    pos = 0\n",
    "    \n",
    "    while not pos in [1,2,3,4,5,6,7,8,9] or not space_check(list(board),pos):\n",
    "        pos = int(input('Chose your position from 1 - 9'))\n",
    "    return pos\n",
    "        "
   ]
  },
  {
   "cell_type": "code",
   "execution_count": 17,
   "metadata": {},
   "outputs": [
    {
     "name": "stdout",
     "output_type": "stream",
     "text": [
      "Chose your position from 1 - 96\n"
     ]
    },
    {
     "data": {
      "text/plain": [
       "6"
      ]
     },
     "execution_count": 17,
     "metadata": {},
     "output_type": "execute_result"
    }
   ],
   "source": [
    "player_choice([' ',' ',' ',' ',' ',' ',' ',' ',' '])"
   ]
  },
  {
   "cell_type": "code",
   "execution_count": 18,
   "metadata": {
    "collapsed": true
   },
   "outputs": [],
   "source": [
    "def replay():\n",
    "    choice = input('Would you like to play again : Y or N?')\n",
    "    if choice == 'Y':\n",
    "        return True\n",
    "    else:\n",
    "        return False\n",
    "    "
   ]
  },
  {
   "cell_type": "code",
   "execution_count": 19,
   "metadata": {},
   "outputs": [
    {
     "name": "stdout",
     "output_type": "stream",
     "text": [
      "Would you like to play again : Y or N?N\n"
     ]
    },
    {
     "data": {
      "text/plain": [
       "False"
      ]
     },
     "execution_count": 19,
     "metadata": {},
     "output_type": "execute_result"
    }
   ],
   "source": [
    "replay()"
   ]
  },
  {
   "cell_type": "code",
   "execution_count": 1,
   "metadata": {
    "collapsed": true
   },
   "outputs": [],
   "source": [
    "## Sub Programs declaration\n",
    "\n",
    "\n",
    "from IPython.display import clear_output\n",
    "import random\n",
    "\n",
    "def display_board(board):\n",
    "    for index,item in (enumerate(board,start = 1)):\n",
    "        print(' ',item,end = ' |' if index%3 else '\\n')\n",
    "\n",
    "\n",
    "def player_input():\n",
    "    marker = False\n",
    "    while not marker:\n",
    "        ans = input('Chose your marker : X or O')\n",
    "        if ans == 'X':\n",
    "            player1,player2 = ('X','O')\n",
    "            marker = True\n",
    "        elif ans == 'O':\n",
    "            player1,player2 = ('O','X')\n",
    "            marker = True\n",
    "    return player1,player2\n",
    "\n",
    "def space_check(board,position):\n",
    "    #position = position-1\n",
    "    return board[position-1] == ' '\n",
    "\n",
    "def player_choice(board):\n",
    "    pos = 0\n",
    "    \n",
    "    while not pos in [1,2,3,4,5,6,7,8,9] or not space_check(list(board),pos):\n",
    "        pos = int(input('Chose your position from 1 - 9'))\n",
    "    return pos\n",
    "\n",
    "def place_marker(board,marker,position):\n",
    "    #board = [' ',' ',' ',' ',' ',' ',' ',' ',' ']\n",
    "    #marker = input(player_input())\n",
    "    #position = input('Select desired position from 1 - 9 :')\n",
    "    \n",
    "    board[position] = marker\n",
    "    \n",
    "    display_board(board)\n",
    "    \n",
    "\n",
    "def wincheck(board,marker):\n",
    "    win = False\n",
    "    win_positions = {'1':[0,1,2],'2':[3,4,5],'3':[6,7,8],'4':[0,3,6],'5':[1,4,7],'6':[2,5,8],'7':[2,4,6],'8':[0,4,8]}\n",
    "    for ind,pos in enumerate(win_positions):\n",
    "        win_list = []\n",
    "        for val in win_positions[pos]:\n",
    "            win_list.append(board[val])\n",
    "            #print(win_list)\n",
    "            if win_list.count(marker) == 3:\n",
    "                win = True\n",
    "                break\n",
    "        if win == True:\n",
    "            break\n",
    "    return win\n",
    "        \n",
    "\n",
    "\n",
    "def choose_first():\n",
    "    player = random.randint(1,2)\n",
    "    if player == 1:\n",
    "        return (\"Player 1\")\n",
    "    else:\n",
    "        return (\"Player 2\")\n",
    "\n",
    "\n",
    "def full_check(board):\n",
    "    \n",
    "    cnt = 0\n",
    "    for i in range(0,len(board)):\n",
    "        if board[i] in ('X','O'):\n",
    "            cnt += 1\n",
    "    if cnt == 9:\n",
    "        return True\n",
    "    else:\n",
    "        return False\n",
    "\n",
    "\n",
    "def replay():\n",
    "    choice = input('Would you like to play again : Y or N?')\n",
    "    if choice == 'Y':\n",
    "        return True\n",
    "    else:\n",
    "        return False\n",
    "\n"
   ]
  },
  {
   "cell_type": "code",
   "execution_count": null,
   "metadata": {},
   "outputs": [
    {
     "name": "stdout",
     "output_type": "stream",
     "text": [
      "Welcome to Tic Tac Toe\n",
      "Chose your marker : X or OX\n",
      "Player 2  plays first\n",
      "Are you ready to play Y/N?Y\n",
      "    |    |   \n",
      "    |    |   \n",
      "    |    |   \n",
      "Chose your position from 1 - 93\n",
      "    |    |  O\n",
      "    |    |   \n",
      "    |    |   \n",
      "Chose your position from 1 - 91\n",
      "  X |    |  O\n",
      "    |    |   \n",
      "    |    |   \n",
      "Chose your position from 1 - 95\n",
      "  X |    |  O\n",
      "    |  O |   \n",
      "    |    |   \n",
      "Chose your position from 1 - 97\n",
      "  X |    |  O\n",
      "    |  O |   \n",
      "  X |    |   \n",
      "Chose your position from 1 - 94\n",
      "  X |    |  O\n",
      "  O |  O |   \n",
      "  X |    |   \n",
      "Chose your position from 1 - 96\n",
      "  X |    |  O\n",
      "  O |  O |  X\n",
      "  X |    |   \n",
      "Chose your position from 1 - 98\n",
      "  X |    |  O\n",
      "  O |  O |  X\n",
      "  X |  O |   \n",
      "Chose your position from 1 - 92\n",
      "  X |  X |  O\n",
      "  O |  O |  X\n",
      "  X |  O |   \n",
      "Chose your position from 1 - 92\n",
      "Chose your position from 1 - 99\n",
      "  X |  X |  O\n",
      "  O |  O |  X\n",
      "  X |  O |  O\n",
      "Game is a draw\n",
      "Would you like to play again : Y or N?Y\n",
      "Welcome to Tic Tac Toe\n",
      "Chose your marker : X or O1\n",
      "Chose your marker : X or OX\n",
      "Player 2  plays first\n",
      "Are you ready to play Y/N?Y\n",
      "    |    |   \n",
      "    |    |   \n",
      "    |    |   \n",
      "Chose your position from 1 - 91\n",
      "  O |    |   \n",
      "    |    |   \n",
      "    |    |   \n",
      "Chose your position from 1 - 94\n",
      "  O |    |   \n",
      "  X |    |   \n",
      "    |    |   \n",
      "Chose your position from 1 - 92\n",
      "  O |  O |   \n",
      "  X |    |   \n",
      "    |    |   \n",
      "Chose your position from 1 - 95\n",
      "  O |  O |   \n",
      "  X |  X |   \n",
      "    |    |   \n",
      "Chose your position from 1 - 93\n",
      "  O |  O |  O\n",
      "  X |  X |   \n",
      "    |    |   \n",
      "Congratulations Player 2  won the game\n"
     ]
    }
   ],
   "source": [
    "## Main program \n",
    "import random\n",
    "\n",
    "while True:\n",
    "    print(\"Welcome to Tic Tac Toe\")\n",
    "       \n",
    "    board = [' '] * 9\n",
    "    player1_marker,player2_marker = player_input()\n",
    "    turn = choose_first()\n",
    "    print(turn,' plays first')\n",
    "    \n",
    "    play_game = input('Are you ready to play Y/N?')\n",
    "    if play_game.lower()[0] == 'y':\n",
    "        game_on = True\n",
    "        display_board(board)\n",
    "    else:\n",
    "        game_on = False\n",
    "            \n",
    "    while game_on:\n",
    "        ## Player 1's game\n",
    "        if turn == 'Player 1':\n",
    "            \n",
    "            pos = player_choice(board) -1\n",
    "            #print(pos)\n",
    "            place_marker(board,player1_marker,pos)\n",
    "            \n",
    "            if wincheck(board,player1_marker) == True:\n",
    "                print('Congratulations', turn,' won the game')\n",
    "                game_on = False\n",
    "            elif full_check(board):\n",
    "                print('Game is a draw')\n",
    "                break\n",
    "            else:\n",
    "                turn = 'Player 2'\n",
    "            \n",
    "            ## Player 2's Game\n",
    "        if turn == 'Player 2':\n",
    "            #display_board(board)\n",
    "            pos = player_choice(board) -1\n",
    "            #print(pos)\n",
    "            place_marker(board,player2_marker,pos)\n",
    "            \n",
    "            if wincheck(board,player2_marker) == True:\n",
    "                print('Congratulations', turn,' won the game')\n",
    "                game_on = False\n",
    "            elif full_check(board):\n",
    "                print('Game is a draw')\n",
    "                break\n",
    "            else:\n",
    "                turn = 'Player 1'\n",
    "                \n",
    "    if not replay():\n",
    "        break"
   ]
  },
  {
   "cell_type": "code",
   "execution_count": 34,
   "metadata": {},
   "outputs": [
    {
     "name": "stdout",
     "output_type": "stream",
     "text": [
      "1\n"
     ]
    }
   ],
   "source": []
  },
  {
   "cell_type": "code",
   "execution_count": null,
   "metadata": {
    "collapsed": true
   },
   "outputs": [],
   "source": []
  }
 ],
 "metadata": {
  "kernelspec": {
   "display_name": "Python 3",
   "language": "python",
   "name": "python3"
  },
  "language_info": {
   "codemirror_mode": {
    "name": "ipython",
    "version": 3
   },
   "file_extension": ".py",
   "mimetype": "text/x-python",
   "name": "python",
   "nbconvert_exporter": "python",
   "pygments_lexer": "ipython3",
   "version": "3.6.3"
  }
 },
 "nbformat": 4,
 "nbformat_minor": 2
}
