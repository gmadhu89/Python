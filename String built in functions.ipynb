{
 "cells": [
  {
   "cell_type": "code",
   "execution_count": 58,
   "metadata": {
    "collapsed": true
   },
   "outputs": [],
   "source": [
    "## Notes :\n",
    "## Difference betweeb title() and Captitalize()\n",
    "## title() - COnverts first character of every word in the string to upper case (Initcap)\n",
    "## captitalize() - COnverts first Character of the first word/character(even space) in the string to upper case"
   ]
  },
  {
   "cell_type": "code",
   "execution_count": 3,
   "metadata": {
    "collapsed": true
   },
   "outputs": [],
   "source": [
    "x = \"This is my string\"\n",
    "test2 = \"my next practice string\""
   ]
  },
  {
   "cell_type": "code",
   "execution_count": 4,
   "metadata": {
    "collapsed": true
   },
   "outputs": [],
   "source": [
    "## upper, lower , isupper , islower , capitalize\n",
    "## captitalize() - COnverts first Character of the first word/character(even space) in the string to upper case\n",
    "\n",
    "y = x.upper()\n",
    "z = x.lower()\n",
    "a = y.isupper()\n",
    "b = z.isupper()\n",
    "c = y.islower()\n",
    "d = z.islower()\n",
    "\n",
    "var1 = test2.capitalize()"
   ]
  },
  {
   "cell_type": "code",
   "execution_count": 5,
   "metadata": {},
   "outputs": [
    {
     "name": "stdout",
     "output_type": "stream",
     "text": [
      "Test string is : This is my string \n",
      "y is : THIS IS MY STRING \n",
      "z is : this is my string \n",
      "a is : True \n",
      "b is : False \n",
      "c is : False \n",
      "d is : True \n",
      "var1 is : My next practice string\n"
     ]
    }
   ],
   "source": [
    "display = print(\"Test string is : %s\"%x,\"\\ny is : %s\"%y , \"\\nz is : %s\"%z, \"\\na is : %s\"%a, \"\\nb is : %s\"%b, \"\\nc is : %s\"%c, \"\\nd is : %s\"%d, \"\\nvar1 is : %s\"%var1)"
   ]
  },
  {
   "cell_type": "code",
   "execution_count": 6,
   "metadata": {},
   "outputs": [],
   "source": [
    "## title , swapcase , split , strip\n",
    "## title() - COnverts first character of every word in the string to upper case (Initcap)\n",
    "## Split - default whitespace (splits characters to lists)\n",
    "## Strip - Strips the firt or last character provided from string(default - whitespace : similar to trim)\n",
    "\n",
    "var2 = test2.title()\n",
    "var3 = test2.swapcase()\n",
    "var4 = var2.swapcase()\n",
    "\n",
    "var5 = test2.split()\n",
    "var6 = \"My practice, to test , split, function\"\n",
    "var7 = var6.split(\",\")\n",
    "\n",
    "strip_test = \"      tttttttest string for strip methodddd    \"\n",
    "var8 = strip_test.strip()\n",
    "var9 = var8.strip('t')\n",
    "var10 = var9.strip('d')"
   ]
  },
  {
   "cell_type": "code",
   "execution_count": 7,
   "metadata": {},
   "outputs": [
    {
     "name": "stdout",
     "output_type": "stream",
     "text": [
      "Test string is : my next practice string \n",
      "var2 is : My Next Practice String \n",
      "var3 is : MY NEXT PRACTICE STRING \n",
      "\n",
      "var4 is : mY nEXT pRACTICE sTRING \n",
      "\n",
      " var5 is :['my', 'next', 'practice', 'string'] \n",
      "\n",
      "var7 is : ['My practice', ' to test ', ' split', ' function'] \n",
      "var8 is :tttttttest string for strip methodddd \n",
      "var9 is :est string for strip methodddd \n",
      "var10 is :est string for strip metho\n"
     ]
    }
   ],
   "source": [
    "display = print(\"Test string is : %s\"%test2, \"\\nvar2 is : %s\"%var2, \"\\nvar3 is : %s\"%var3, \"\\n\\nvar4 is : %s\"%var4, \"\\n\\n var5 is :%s\"%var5, \"\\n\\nvar7 is : %s\"%var7,\"\\nvar8 is :%s\"%var8, \"\\nvar9 is :%s\"%var9, \"\\nvar10 is :%s\"%var10) "
   ]
  },
  {
   "cell_type": "code",
   "execution_count": 32,
   "metadata": {},
   "outputs": [
    {
     "name": "stdout",
     "output_type": "stream",
     "text": [
      "Th3s 3s my t2st str3ng 4 tr1nsl1t2 f5nct34n\n"
     ]
    }
   ],
   "source": [
    "## translate\n",
    "## translates all characters in a string with substitution characters provided in a table format (using maketrans() method, optionally lets you delete characters from a string)\n",
    "\n",
    "var11 = \"This is my test string 4 translate function\"\n",
    "\n",
    "inchar = 'aeiou'\n",
    "outchar = '12345'\n",
    "mytab = str.maketrans(inchar,outchar)\n",
    "\n",
    "var12 = var11.translate(mytab)\n",
    "\n",
    "print(var12)\n"
   ]
  },
  {
   "cell_type": "code",
   "execution_count": 26,
   "metadata": {},
   "outputs": [
    {
     "name": "stdout",
     "output_type": "stream",
     "text": [
      "var17 is :True \n",
      "var18 is :True \n",
      "var19 is :True \n",
      "var20 is:True \n",
      "var21 is:False \n",
      "var22 is:True \n",
      "var23 is:True \n",
      "var25 is:False \n",
      "var26 is:True\n",
      "False False\n",
      "True\n"
     ]
    }
   ],
   "source": [
    "## isalnum , isalpha, isdigit, isdecimal, isidentifier,isnumeric, isprintable,isspace, istitle\n",
    "## isaplha - returns true if all characters in string are alphabets (space is not an alphabet)\n",
    "## isalnum - returns true if all characters are alphabets/numbers(no space)\n",
    "## isdecimal - only for unicode characters (prefix U i front of string) - takes only integers no floating\n",
    "## isidentifier - returns true if string is a valid identifier (starts only with alphabet,does not start with space or numbers)\n",
    "## isnumeric - returns true if number\n",
    "## isspace\n",
    "## istitle\n",
    "\n",
    "var13 = \"Teststringfornextcharonly\"\n",
    "var14 = \"Teststring1234\"\n",
    "var15 = u\"193\"\n",
    "var16 = \"10047\"\n",
    "vartitle = \"This is a test title\"\n",
    "vartitle2 = \"This Ia A Test Title\"\n",
    "\n",
    "var17 = var13.isalpha()\n",
    "var18 = var14.isalnum()\n",
    "var19 = var15.isdecimal()\n",
    "var20 = var16.isnumeric()\n",
    "var21 = var16.isidentifier()\n",
    "var22 = var14.isidentifier()\n",
    "var23 = var13.isidentifier()\n",
    "var25 = vartitle.istitle()\n",
    "var26 = vartitle2.istitle()\n",
    "\n",
    "\n",
    "display = print(\"var17 is :%s\"%var17,\"\\nvar18 is :%s\"%var18,\"\\nvar19 is :%s\"%var19,\"\\nvar20 is:%s\"%var20,\"\\nvar21 is:%s\"%var21,\"\\nvar22 is:%s\"%var22,\"\\nvar23 is:%s\"%var23,\"\\nvar25 is:%s\"%var25,\"\\nvar26 is:%s\"%var26)\n",
    "\n",
    "print(vartitle.isspace(),var13.isspace())\n",
    "varspace = \"           \"\n",
    "print(varspace.isspace())"
   ]
  },
  {
   "cell_type": "code",
   "execution_count": 42,
   "metadata": {
    "scrolled": true
   },
   "outputs": [
    {
     "name": "stdout",
     "output_type": "stream",
     "text": [
      "2\n",
      "a-b-c\n",
      "This is my xxx test to xxx chars to learn replace\n"
     ]
    }
   ],
   "source": [
    "## index, join, replace\n",
    "## index - method applied on lists - gives the position of the characters in list\n",
    "## Join - join a string with sequence\n",
    "## replace - replaces char with another [optional max number of chars to replace]\n",
    "\n",
    "t_list = [\"abc\", \"def\",\"xyz\",\"123\"]\n",
    "print(t_list.index('xyz'))\n",
    "\n",
    "s = \"-\"\n",
    "seq = [\"a\",\"b\",\"c\"]\n",
    "print(s.join(seq))\n",
    "\n",
    "string = \"This is my replace test to replace chars to learn replace\"\n",
    "print(string.replace('replace','xxx',2))"
   ]
  },
  {
   "cell_type": "code",
   "execution_count": 48,
   "metadata": {},
   "outputs": [
    {
     "name": "stdout",
     "output_type": "stream",
     "text": [
      "3\n",
      "1\n",
      "18\n"
     ]
    }
   ],
   "source": [
    "## find, count\n",
    "## find - returns the position of the character to find in the string\n",
    "\n",
    "tstring = \"Sample string to learn count method\"\n",
    "print(tstring.count('e'))\n",
    "print(tstring.count('string'))\n",
    "\n",
    "print(tstring.find('ear'))"
   ]
  },
  {
   "cell_type": "code",
   "execution_count": null,
   "metadata": {
    "collapsed": true
   },
   "outputs": [],
   "source": []
  }
 ],
 "metadata": {
  "kernelspec": {
   "display_name": "Python 3",
   "language": "python",
   "name": "python3"
  },
  "language_info": {
   "codemirror_mode": {
    "name": "ipython",
    "version": 3
   },
   "file_extension": ".py",
   "mimetype": "text/x-python",
   "name": "python",
   "nbconvert_exporter": "python",
   "pygments_lexer": "ipython3",
   "version": "3.6.3"
  }
 },
 "nbformat": 4,
 "nbformat_minor": 2
}
